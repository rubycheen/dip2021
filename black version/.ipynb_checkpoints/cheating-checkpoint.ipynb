{
 "cells": [
  {
   "cell_type": "code",
   "execution_count": 1,
   "metadata": {},
   "outputs": [],
   "source": [
    "import cv2\n",
    "import numpy as np\n",
    "import random"
   ]
  },
  {
   "cell_type": "code",
   "execution_count": 2,
   "metadata": {},
   "outputs": [],
   "source": [
    "CV_raw = cv2.imread(\"./rawdata/CVISGOOD.png\", 0)\n",
    "DIP_raw = cv2.imread(\"./rawdata/DIPISGOOD.png\", 0)"
   ]
  },
  {
   "cell_type": "code",
   "execution_count": 3,
   "metadata": {},
   "outputs": [],
   "source": [
    "DIP_raw[DIP_raw > 127.5] = 255\n",
    "DIP_raw[DIP_raw <= 127.5] = 0\n",
    "CV_raw[CV_raw > 127.5] = 255\n",
    "CV_raw[CV_raw <= 127.5] = 0"
   ]
  },
  {
   "cell_type": "code",
   "execution_count": 4,
   "metadata": {},
   "outputs": [],
   "source": [
    "def visual_cryptography1x2(img, n = 2):\n",
    "    C0 = []\n",
    "    C1 = []\n",
    "    for i in range(n):\n",
    "        for j in range(n):\n",
    "            pattern = np.zeros((n, n))\n",
    "            if(i == j):\n",
    "                pattern[:,i] = 1\n",
    "                C0.append(pattern)                \n",
    "            elif(i != j):\n",
    "                pattern[0,i] = 1\n",
    "                pattern[1,j] = 1\n",
    "                C1.append(pattern)\n",
    "\n",
    "    share1 = np.zeros((img.shape[0], img.shape[1]*n))\n",
    "    share2 = np.zeros((img.shape[0], img.shape[1]*n))\n",
    "    for i in range(img.shape[0]):\n",
    "        for j in range(img.shape[1]):\n",
    "            x = random.randint(0, 1)\n",
    "            if img[i,j] == 0: #若原始pixel為黑色\n",
    "                target = C1[x]\n",
    "            elif img[i,j] == 255: #若原始pixel為白色\n",
    "                target = C0[x]\n",
    "            share1[i, j*n:j*n+n] = target[0,:]\n",
    "            share2[i, j*n:j*n+n] = target[1,:]\n",
    "    result = np.logical_or(share1.astype(bool), share2.astype(bool)).astype(int)\n",
    "    result[result==0]=255\n",
    "    result[result==1]=0\n",
    "\n",
    "    shares = []\n",
    "    for share in [share1,share2]:\n",
    "        share[share==0]=255\n",
    "        share[share==1]=0\n",
    "        shares.append(share)\n",
    "    return shares, result"
   ]
  },
  {
   "cell_type": "code",
   "execution_count": 5,
   "metadata": {},
   "outputs": [
    {
     "data": {
      "text/plain": [
       "True"
      ]
     },
     "execution_count": 5,
     "metadata": {},
     "output_type": "execute_result"
    }
   ],
   "source": [
    "shares, result = visual_cryptography1x2(DIP_raw)\n",
    "cv2.imwrite(\"./output/DIP1x2_share1+share2.png\", result)\n",
    "cv2.imwrite(\"./output/DIP1x2_share1.png\", shares[0])\n",
    "cv2.imwrite(\"./output/DIP1x2_share2.png\", shares[1])"
   ]
  },
  {
   "cell_type": "code",
   "execution_count": 6,
   "metadata": {},
   "outputs": [],
   "source": [
    "def visual_cryptography1x3(img, n = 3):\n",
    "    C0 = []\n",
    "    C1 = []\n",
    "    for i in range(n):\n",
    "        for j in range(n):\n",
    "            for k in range(n):\n",
    "                pattern = np.zeros((n, n))\n",
    "                if(i == j and j == k):\n",
    "                    pattern[:,i] = 1\n",
    "                    C0.append(pattern)                \n",
    "                elif(i != j and j != k and i != k):\n",
    "                    pattern[0,i] = 1\n",
    "                    pattern[1,j] = 1\n",
    "                    pattern[2,k] = 1\n",
    "                    C1.append(pattern)\n",
    "\n",
    "    share1 = np.zeros((img.shape[0], img.shape[1]*n))\n",
    "    share2 = np.zeros((img.shape[0], img.shape[1]*n))\n",
    "    share3 = np.zeros((img.shape[0], img.shape[1]*n))\n",
    "    for i in range(img.shape[0]):\n",
    "        for j in range(img.shape[1]):\n",
    "            x = random.randint(0, 5)\n",
    "            y = random.randint(0, 2)\n",
    "            if img[i,j] == 0: #若原始pixel為黑色\n",
    "                target = C1[x]\n",
    "            elif img[i,j] == 255: #若原始pixel為白色\n",
    "                target = C0[y]\n",
    "            share1[i, j*n:j*n+n] = target[0,:]\n",
    "            share2[i, j*n:j*n+n] = target[1,:]\n",
    "            share3[i, j*n:j*n+n] = target[2,:]\n",
    "    results = []\n",
    "    for pair in [[share1,share2],[share1,share3],[share2,share3]]:\n",
    "        result = np.logical_or(pair[0].astype(bool), pair[1].astype(bool)).astype(int)\n",
    "        result[result==0]=255\n",
    "        result[result==1]=0\n",
    "        results.append(result)\n",
    "    shares = []\n",
    "    for share in [share1,share2,share3]:\n",
    "        share[share==0]=255\n",
    "        share[share==1]=0\n",
    "        shares.append(share)\n",
    "    return shares, results"
   ]
  },
  {
   "cell_type": "code",
   "execution_count": 7,
   "metadata": {},
   "outputs": [
    {
     "data": {
      "text/plain": [
       "True"
      ]
     },
     "execution_count": 7,
     "metadata": {},
     "output_type": "execute_result"
    }
   ],
   "source": [
    "shares, results = visual_cryptography1x3(DIP_raw)\n",
    "cv2.imwrite(\"./output/DIP1x3_share1+share2.png\", results[0])\n",
    "cv2.imwrite(\"./output/DIP1x3_share1+share3.png\", results[1])\n",
    "cv2.imwrite(\"./output/DIP1x3_share2+share3.png\", results[2])\n",
    "cv2.imwrite(\"./output/DIP1x3_share1.png\", shares[0])\n",
    "cv2.imwrite(\"./output/DIP1x3_share2.png\", shares[1])\n",
    "cv2.imwrite(\"./output/DIP1x3_share3.png\", shares[2])"
   ]
  },
  {
   "cell_type": "code",
   "execution_count": 8,
   "metadata": {},
   "outputs": [],
   "source": [
    "def cheating(img, shares, n=3):\n",
    "    share1 = shares[0]\n",
    "    share2 = shares[1]\n",
    "    share3 = shares[2]\n",
    "    fake_share1 = np.zeros(share1.shape)\n",
    "    fake_share2 = np.zeros(share2.shape)\n",
    "    for i in range(img.shape[0]):\n",
    "        for j in range(img.shape[1]):\n",
    "            a = np.where(share1[i, j*n:j*n+n] == 0)[0][0]\n",
    "            b = np.where(share2[i, j*n:j*n+n] == 0)[0][0]\n",
    "            filled1 = np.zeros((1, 3))\n",
    "            filled2 = np.zeros((1, 3))\n",
    "            c = [0,1,2]\n",
    "            if(a == b):\n",
    "                if(img[i,j]==255): #白(Case1)\n",
    "                    filled1[0,a] = 1\n",
    "                    filled2[0,a] = 1\n",
    "                elif(img[i,j]==0): #黑(Case2)\n",
    "                    c.remove(a)\n",
    "                    filled1[0,c[0]] = 1\n",
    "                    filled2[0,c[1]] = 1                    \n",
    "            elif(a != b):\n",
    "                if(img[i,j]==255): #白(Case3)\n",
    "                    c.remove(a)\n",
    "                    c.remove(b)\n",
    "                    filled1[0,c[0]] = 1\n",
    "                    filled2[0,c[0]] = 1                      \n",
    "                elif(img[i,j]==0): #黑(Case4)\n",
    "                    filled1[0,a] = 1\n",
    "                    filled2[0,b] = 1\n",
    "            fake_share1[i, j*n:j*n+n] = filled1\n",
    "            fake_share2[i, j*n:j*n+n] = filled2\n",
    "#             if(random.randint(0, 500)==500):\n",
    "#                 print(share1[i, j*n:j*n+n])\n",
    "#                 print(share2[i, j*n:j*n+n])\n",
    "#                 print(img[i,j])\n",
    "#                 print(filled1)\n",
    "#                 print(filled2)\n",
    "#                 print(\"--------------------\")\n",
    "    share3[share3==0] = 1\n",
    "    share3[share3==255] = 0\n",
    "    results = []\n",
    "    for fake_share in [fake_share1, fake_share2]:\n",
    "        result = np.logical_or(fake_share.astype(bool), share3.astype(bool)).astype(int)\n",
    "        result[result==0]=255\n",
    "        result[result==1]=0\n",
    "        results.append(result)\n",
    "    fake_shares = []\n",
    "    for fake_share in [fake_share1, fake_share2]:\n",
    "        fake_share[fake_share==0]=255\n",
    "        fake_share[fake_share==1]=0\n",
    "        fake_shares.append(fake_share)        \n",
    "    return fake_shares, results"
   ]
  },
  {
   "cell_type": "code",
   "execution_count": 9,
   "metadata": {},
   "outputs": [
    {
     "data": {
      "text/plain": [
       "True"
      ]
     },
     "execution_count": 9,
     "metadata": {},
     "output_type": "execute_result"
    }
   ],
   "source": [
    "fake_shares, results = cheating(CV_raw, shares)\n",
    "cv2.imwrite(\"./output/fake_share1.png\", fake_shares[0])\n",
    "cv2.imwrite(\"./output/fake_share2.png\", fake_shares[1])\n",
    "cv2.imwrite(\"./output/fake_share1+share3.png\", results[0])\n",
    "cv2.imwrite(\"./output/fake_share2+share3.png\", results[1])"
   ]
  }
 ],
 "metadata": {
  "kernelspec": {
   "display_name": "Python 3",
   "language": "python",
   "name": "python3"
  },
  "language_info": {
   "codemirror_mode": {
    "name": "ipython",
    "version": 3
   },
   "file_extension": ".py",
   "mimetype": "text/x-python",
   "name": "python",
   "nbconvert_exporter": "python",
   "pygments_lexer": "ipython3",
   "version": "3.8.5"
  }
 },
 "nbformat": 4,
 "nbformat_minor": 4
}
