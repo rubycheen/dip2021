{
 "cells": [
  {
   "cell_type": "code",
   "execution_count": 11,
   "metadata": {},
   "outputs": [],
   "source": [
    "import cv2\n",
    "import numpy as np\n",
    "import random"
   ]
  },
  {
   "cell_type": "code",
   "execution_count": 12,
   "metadata": {},
   "outputs": [],
   "source": [
    "raw_cat = cv2.imread(\"./rawdata/cat.png\", 0)\n",
    "raw_dog = cv2.imread(\"./rawdata/dog.png\", 0)"
   ]
  },
  {
   "cell_type": "markdown",
   "metadata": {},
   "source": [
    "### ERROR DIFFUSION"
   ]
  },
  {
   "cell_type": "code",
   "execution_count": 13,
   "metadata": {},
   "outputs": [],
   "source": [
    "def error_dissusion(img):\n",
    "    mask = 1/48 * np.array([[0,0,0,7,5],[3,5,7,5,3],[1,3,5,3,1]])\n",
    "    row_num, col_num = img.shape        \n",
    "    w = (mask.shape[1]-1)//2\n",
    "    result = img.copy().astype(float)\n",
    "    for i in range(0, row_num-w):\n",
    "        for j in range(w, col_num-w):\n",
    "            value = result[i, j]\n",
    "            result[i, j] = 255 if value > 127.5 else 0\n",
    "            error = value - result[i, j]\n",
    "            result[i:i+w+1, j-w:j+w+1] += error*mask\n",
    "    return result"
   ]
  },
  {
   "cell_type": "code",
   "execution_count": 14,
   "metadata": {},
   "outputs": [
    {
     "data": {
      "text/plain": [
       "True"
      ]
     },
     "execution_count": 14,
     "metadata": {},
     "output_type": "execute_result"
    }
   ],
   "source": [
    "cat_ED = error_dissusion(raw_cat)\n",
    "dog_ED = error_dissusion(raw_dog)\n",
    "cv2.imwrite(\"./output/cat_ED.png\", cat_ED)\n",
    "cv2.imwrite(\"./output/dog_ED.png\", dog_ED)"
   ]
  },
  {
   "cell_type": "markdown",
   "metadata": {},
   "source": [
    "### VISUAL CRYPOTOGRAPHY"
   ]
  },
  {
   "cell_type": "code",
   "execution_count": 15,
   "metadata": {},
   "outputs": [],
   "source": [
    "# 1是黑 0是白\n",
    "pattern1 = np.array([[0,0],[1,1]])\n",
    "pattern2 = np.array([[1,1],[0,0]])\n",
    "pattern3 = np.array([[0,1],[0,1]])\n",
    "pattern4 = np.array([[1,0],[1,0]])\n",
    "pattern5 = np.array([[0,1],[1,0]])\n",
    "pattern6 = np.array([[1,0],[0,1]])\n",
    "patterns = [pattern1, pattern2, pattern3, pattern4, pattern5, pattern6]"
   ]
  },
  {
   "cell_type": "code",
   "execution_count": 16,
   "metadata": {},
   "outputs": [],
   "source": [
    "def visual_cryptography2x2(img, patterns=patterns):\n",
    "    share1 = np.zeros((img.shape[0]*2, img.shape[1]*2))\n",
    "    share2 = np.zeros((img.shape[0]*2, img.shape[1]*2))\n",
    "    for i in range(img.shape[0]):\n",
    "        for j in range(img.shape[1]):\n",
    "            x = random.randint(0, 5)\n",
    "            if img[i,j] == 0: #若原始pixel為黑色\n",
    "                if(x % 2 == 1): # 1, 3, 5\n",
    "                    share1[i*2:i*2+2, j*2:j*2+2] = patterns[x]\n",
    "                    share2[i*2:i*2+2, j*2:j*2+2] = patterns[x-1]\n",
    "                else: # 0, 2, 4\n",
    "                    share1[i*2:i*2+2, j*2:j*2+2] = patterns[x]\n",
    "                    share2[i*2:i*2+2, j*2:j*2+2] = patterns[x+1]           \n",
    "            elif img[i,j] == 255: #若原始pixel為白色\n",
    "                share1[i*2:i*2+2, j*2:j*2+2] = patterns[x]\n",
    "                share2[i*2:i*2+2, j*2:j*2+2] = patterns[x]\n",
    "    result = np.logical_or(share1.astype(bool), share2.astype(bool)).astype(int)\n",
    "    result[result==0]=255\n",
    "    result[result==1]=0\n",
    "    share1[share1==0]=255\n",
    "    share1[share1==1]=0\n",
    "    share2[share2==0]=255\n",
    "    share2[share2==1]=0\n",
    "    return share1, share2, result"
   ]
  },
  {
   "cell_type": "code",
   "execution_count": 17,
   "metadata": {},
   "outputs": [
    {
     "data": {
      "text/plain": [
       "True"
      ]
     },
     "execution_count": 17,
     "metadata": {},
     "output_type": "execute_result"
    }
   ],
   "source": [
    "share1, share2, cat_VC = visual_cryptography2x2(cat_ED)\n",
    "cv2.imwrite(\"./output/cat_VC.png\", cat_VC)\n",
    "cv2.imwrite(\"./output/share1.png\", share1)\n",
    "cv2.imwrite(\"./output/share2.png\", share2)"
   ]
  },
  {
   "cell_type": "markdown",
   "metadata": {},
   "source": [
    "### Inverse"
   ]
  },
  {
   "cell_type": "code",
   "execution_count": 18,
   "metadata": {},
   "outputs": [],
   "source": [
    "def pattern_type(matrix, patterns=patterns):\n",
    "    for i in range(len(patterns)):\n",
    "        if (patterns[i]==matrix).all():\n",
    "            return i    \n",
    "    return random.randint(0, 5)"
   ]
  },
  {
   "cell_type": "code",
   "execution_count": 21,
   "metadata": {},
   "outputs": [],
   "source": [
    "def Inverse(img, key, patterns=patterns):\n",
    "    share3 = np.zeros((key.shape[0], key.shape[1]))\n",
    "    key = key.astype(int)\n",
    "    key[key==0]=1\n",
    "    key[key==255]=0\n",
    "    for i in range(img.shape[0]):\n",
    "        for j in range(img.shape[1]):\n",
    "            x = pattern_type(key[i*2:i*2+2, j*2:j*2+2])\n",
    "            if img[i,j] == 0: #若原始pixel為黑色\n",
    "                if(x % 2 == 1): # 1, 3, 5\n",
    "                    share3[i*2:i*2+2, j*2:j*2+2] = patterns[x-1]\n",
    "                else: # 0, 2, 4\n",
    "                    share3[i*2:i*2+2, j*2:j*2+2] = patterns[x+1]           \n",
    "            elif img[i,j] == 255: #若原始pixel為白色\n",
    "                share3[i*2:i*2+2, j*2:j*2+2] = patterns[x]\n",
    "    result = np.logical_or(key.astype(bool), share3.astype(bool)).astype(int)\n",
    "    result[result==0]=255\n",
    "    result[result==1]=0    \n",
    "    share3[share2==0]=255\n",
    "    share3[share2==1]=0\n",
    "#     share3[:,:4] = 255\n",
    "#     share3[:,508:] = 255\n",
    "#     share3[508:,:] = 255\n",
    "    return share3, result"
   ]
  },
  {
   "cell_type": "code",
   "execution_count": 22,
   "metadata": {},
   "outputs": [
    {
     "data": {
      "text/plain": [
       "True"
      ]
     },
     "execution_count": 22,
     "metadata": {},
     "output_type": "execute_result"
    }
   ],
   "source": [
    "share3, dog_VC = Inverse(dog_ED, share2)\n",
    "cv2.imwrite(\"./output/share3.png\", share3)\n",
    "cv2.imwrite(\"./output/dog_VC.png\", dog_VC)"
   ]
  },
  {
   "cell_type": "code",
   "execution_count": null,
   "metadata": {},
   "outputs": [],
   "source": []
  }
 ],
 "metadata": {
  "kernelspec": {
   "display_name": "Python 3",
   "language": "python",
   "name": "python3"
  },
  "language_info": {
   "codemirror_mode": {
    "name": "ipython",
    "version": 3
   },
   "file_extension": ".py",
   "mimetype": "text/x-python",
   "name": "python",
   "nbconvert_exporter": "python",
   "pygments_lexer": "ipython3",
   "version": "3.8.5"
  }
 },
 "nbformat": 4,
 "nbformat_minor": 4
}
